{
 "cells": [
  {
   "cell_type": "markdown",
   "id": "d5cc8f67",
   "metadata": {},
   "source": [
    "# Python para economistas\n",
    "\n",
    "### Ambientes controlados\n",
    "\n",
    "## Introdução\n",
    "\n",
    "O ambiente controlado é onde a boa parte das coisas acontecem na programação. Sem ele, um programa é simplesmente uma lista de instruções que são executadas sequencialmente. Com o fluxo de controle, você pode executar  blocos de código condicionalmente ou repetidamente. Iremos os principais blocos de construção básicos neste seção: if..else, while e loop. O uso destas operações pode otimizar boa parte das tarefas e funções no Python. \n",
    "\n",
    "## Criando funções\n",
    "\n",
    "Até agora a gente utilizou funções prontas de pacotes, ou até mesmo funções nativas do Python. Agora, iremos ver como podemos criar funções personalizadas no Python. Para isso, basta usar o a expressão \"def\" seguida do nome da função que estamos criando e um parenteses, em que podemos colocar parâmetros da função. Por exemplo, na função abaixo nós estamos criando uma função chamada \"f\" que utiliza o parâmetro \"x\". Após isso, nas linhas abaixo, com identação (\"parágrafo\") iremos escrever o que a função faz. No nosso caso temos apenas uma linha que faz a operação \"3*x - 4\". Tudo que estiver após o **return** será retornado pela função. \n",
    "\n",
    "Para obtermos o resultado da função, basta utilizarmos ela como qualquer outra. Como ela só exige um parâmetro, basta colocar qualquer número dentro do parênteses."
   ]
  },
  {
   "cell_type": "code",
   "execution_count": 9,
   "id": "3460d001",
   "metadata": {},
   "outputs": [],
   "source": [
    "def f(x):\n",
    "    return 3*x - 4"
   ]
  },
  {
   "cell_type": "code",
   "execution_count": 10,
   "id": "31dcda3e",
   "metadata": {},
   "outputs": [
    {
     "data": {
      "text/plain": [
       "26"
      ]
     },
     "execution_count": 10,
     "metadata": {},
     "output_type": "execute_result"
    }
   ],
   "source": [
    "f(10)"
   ]
  },
  {
   "cell_type": "markdown",
   "id": "b2b41bc3",
   "metadata": {},
   "source": [
    "A mesma função, agora com duas linhas e criando uma variável intermediária:"
   ]
  },
  {
   "cell_type": "code",
   "execution_count": 11,
   "id": "f302e666",
   "metadata": {},
   "outputs": [
    {
     "data": {
      "text/plain": [
       "26"
      ]
     },
     "execution_count": 11,
     "metadata": {},
     "output_type": "execute_result"
    }
   ],
   "source": [
    "def f_alterada(x):\n",
    "    y = 3*x\n",
    "    return y - 4\n",
    "\n",
    "f_alterada(10)"
   ]
  },
  {
   "cell_type": "markdown",
   "id": "75549b59",
   "metadata": {},
   "source": [
    "## If.. else\n",
    "\n",
    "O objetivo da estrutura de \"if\" e \"else\" é bastante trivial. Resumidamente, buscamos um resultado a depender de uma condição que impusermos. No caso abaixo fizemos uma função simples para mostrar essa funcionalidade. A função depende de um parâmetro \"x\" e retorna mensagens dependendo do valor de X. Se ele for menor que 23, ela diz para tentarmos um número maior. Se for maior, para tentarmos um número menor. Caso x seja igual a 23, ela retorna \"esse número é 23\". "
   ]
  },
  {
   "cell_type": "code",
   "execution_count": 12,
   "id": "76338eee",
   "metadata": {},
   "outputs": [
    {
     "name": "stdout",
     "output_type": "stream",
     "text": [
      "Tente um número maior\n",
      "Tente um número menor\n",
      "Esse número é 23\n"
     ]
    }
   ],
   "source": [
    "def iguala23(x):\n",
    "    n = 23\n",
    "    if x > n:\n",
    "        print(\"Tente um número menor\")\n",
    "    elif x < n:\n",
    "        print(\"Tente um número maior\")\n",
    "    else:\n",
    "        print(\"Esse número é\", x)\n",
    "        \n",
    "iguala23(2)\n",
    "iguala23(25)\n",
    "iguala23(23)"
   ]
  },
  {
   "cell_type": "markdown",
   "id": "78f28fbd",
   "metadata": {},
   "source": [
    "## While loop\n",
    "\n",
    "\n",
    "No Python, \"While\" é usado para executar um bloco de instruções repetidamente até que uma determinada condição seja satisfeita. E quando a condição se torna falsa, a linha imediatamente após o loop no programa é executada.\n",
    "\n",
    "A sequência de Fibonacci é uma das mais conhecidas sequências numéricas da matemática. É uma sequência de números inteiros em que cada termo corresponde à soma dos dois anteriores. Iremos criar uma função que retorna \"n\" primeiros números dessa sequência. Na nossa função, enquanto i for menor do que n, repetiremos o loop.\n"
   ]
  },
  {
   "cell_type": "code",
   "execution_count": 50,
   "id": "dd38585b",
   "metadata": {},
   "outputs": [
    {
     "name": "stdout",
     "output_type": "stream",
     "text": [
      "0\n",
      "1\n",
      "1\n",
      "2\n",
      "3\n",
      "5\n",
      "8\n",
      "13\n",
      "21\n",
      "34\n"
     ]
    }
   ],
   "source": [
    "def fibonacci(n):    \n",
    "    i = 0\n",
    "    primeiro_valor = 0\n",
    "    segundo_valor = 1\n",
    "    \n",
    "    while(i < n):\n",
    "        if(i <= 1):\n",
    "                prox = i\n",
    "        else:\n",
    "                prox = primeiro_valor + segundo_valor\n",
    "                primeiro_valor = segundo_valor\n",
    "                segundo_valor = prox\n",
    "        print(prox)\n",
    "        i = i + 1\n",
    "    \n",
    "    \n",
    "fibonacci(10)"
   ]
  },
  {
   "cell_type": "markdown",
   "id": "6c4e1510",
   "metadata": {},
   "source": [
    "## For Loop\n",
    "\n",
    "O for loop é de certa forma parecido com o \"while\". Entretanto, ao invés de impormos uma condição para o algoritmo parar de realizar iterações, nós mostramos a ele sobre quais valores precisamos realizar determinadas funções. \n",
    "\n",
    "Para mostrar isso, criamos uma função que retorna o o número de caracteres para cada elemento da lista. Basicamente o que o for loop faz é executar a função para todos os elementos da lista. Veja que agora o parâmetro da função é uma lista, não um número. "
   ]
  },
  {
   "cell_type": "code",
   "execution_count": 13,
   "id": "131f90d9",
   "metadata": {},
   "outputs": [
    {
     "name": "stdout",
     "output_type": "stream",
     "text": [
      "gato 4\n",
      "cachorro 8\n",
      "passaro 7\n",
      "jaguatirica 11\n"
     ]
    }
   ],
   "source": [
    "def caracteres(x):\n",
    "    \n",
    "    for a in x:\n",
    "        print(a, len(a))\n",
    "        \n",
    "        \n",
    "caracteres(['gato', 'cachorro', 'passaro', \"jaguatirica\"])"
   ]
  },
  {
   "cell_type": "markdown",
   "id": "6f4acf4f",
   "metadata": {},
   "source": [
    "## Range\n",
    "\n",
    "A função \"range\" cria uma sequência de números inteiros de 0 até n-1, sendo $n$ o valor parametrizável. Tecnicamente, ela retorna uma sequência de $n$ números, começando pelo 0. Pode ser muito útil para utilizar junto ao \"for loop\"."
   ]
  },
  {
   "cell_type": "code",
   "execution_count": 60,
   "id": "39727ba8",
   "metadata": {},
   "outputs": [
    {
     "data": {
      "text/plain": [
       "range(0, 33)"
      ]
     },
     "execution_count": 60,
     "metadata": {},
     "output_type": "execute_result"
    }
   ],
   "source": [
    "range(33)"
   ]
  },
  {
   "cell_type": "code",
   "execution_count": 67,
   "id": "5ab7d655",
   "metadata": {},
   "outputs": [
    {
     "name": "stdout",
     "output_type": "stream",
     "text": [
      "0 elevado por 10 é igual a 0\n",
      "1 elevado por 10 é igual a 1\n",
      "2 elevado por 10 é igual a 1024\n",
      "3 elevado por 10 é igual a 59049\n",
      "4 elevado por 10 é igual a 1048576\n",
      "5 elevado por 10 é igual a 9765625\n",
      "6 elevado por 10 é igual a 60466176\n",
      "7 elevado por 10 é igual a 282475249\n",
      "8 elevado por 10 é igual a 1073741824\n",
      "9 elevado por 10 é igual a 3486784401\n",
      "10 elevado por 10 é igual a 10000000000\n",
      "11 elevado por 10 é igual a 25937424601\n"
     ]
    }
   ],
   "source": [
    "for i in range(12):\n",
    "    p = 10\n",
    "    print(i, \"elevado a\", p, \"é igual a\", i**p)"
   ]
  },
  {
   "cell_type": "markdown",
   "id": "f130dca8",
   "metadata": {},
   "source": [
    "### Break e continue\n",
    "\n",
    "As expressões \"break\" e \"continue\" são utilizadas dentro do loop (tanto, while quanto for) para realizar controles internos na operação. \n",
    "\n",
    "**break** - Essa expressão encerra o loop no qual é usada. Se a instrução break for usada dentro de loops aninhados, o loop atual será encerrado e o fluxo continuará com o código seguindo o que vem após o loop.\n",
    "\n",
    "**continue** -Essa expressão ignora o código que vem depois a ela e o controle é passado de volta ao início para a próxima iteração.\n",
    "\n",
    "As instruções de loop podem ter também a expressão \"else\"; ele é executado quando o loop termina por esgotamento do iterável (com for) ou quando a condição se torna falsa (com while), mas não quando o loop é encerrado por uma instrução break.\n",
    "\n",
    "Por exemplo, uma função para encontrar números primos. A operacionalização desta função ocorre da seguinte maneira:\n",
    "\n",
    "    1. Definimos um X, que será o valor máximo que nós iremos obter os números primos\n",
    "    2. Iremos iterar todos os números entre 2 e X duas vezes, criando \"n\" e \"y\". \n",
    "    3. Assim, iremos verificar se \"n\" é divisível para cada um dos \"y\". \n",
    "    4. No primeiro caso em que \"n\" for divisível por \"y\", o loop irá parar (\"break\"). Ou seja, iremos para o próximo número. \n",
    "    5. Se não parar, a função irá retornar \"n\", que é um número primo."
   ]
  },
  {
   "cell_type": "code",
   "execution_count": 19,
   "id": "84f7b5ea",
   "metadata": {},
   "outputs": [
    {
     "name": "stdout",
     "output_type": "stream",
     "text": [
      "2\n",
      "3\n",
      "5\n",
      "7\n",
      "11\n",
      "13\n",
      "17\n",
      "19\n",
      "23\n",
      "29\n"
     ]
    }
   ],
   "source": [
    "def primos(x):\n",
    "    for n in range(2, x):\n",
    "        for y in range(2, n):\n",
    "             if n % y == 0:\n",
    "                break\n",
    "        else:\n",
    "\n",
    "            print(n)\n",
    "            \n",
    "primos(30)"
   ]
  },
  {
   "cell_type": "markdown",
   "id": "f587c754",
   "metadata": {},
   "source": [
    "Já a função \"continue\", ao invés de parar a execução do loop, apenas manda para a próxima iteração."
   ]
  },
  {
   "cell_type": "code",
   "execution_count": 22,
   "id": "582d07b0",
   "metadata": {},
   "outputs": [
    {
     "name": "stdout",
     "output_type": "stream",
     "text": [
      "0\n",
      "1\n",
      "2\n",
      "3\n",
      "5\n"
     ]
    }
   ],
   "source": [
    "for item in range(6):\n",
    "    if item == 4:\n",
    "        continue\n",
    "    print(item)"
   ]
  }
 ],
 "metadata": {
  "kernelspec": {
   "display_name": "Python 3",
   "language": "python",
   "name": "python3"
  },
  "language_info": {
   "codemirror_mode": {
    "name": "ipython",
    "version": 3
   },
   "file_extension": ".py",
   "mimetype": "text/x-python",
   "name": "python",
   "nbconvert_exporter": "python",
   "pygments_lexer": "ipython3",
   "version": "3.8.10"
  }
 },
 "nbformat": 4,
 "nbformat_minor": 5
}
